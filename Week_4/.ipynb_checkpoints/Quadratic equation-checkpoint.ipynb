{
 "cells": [
  {
   "cell_type": "code",
   "execution_count": 1,
   "id": "53446653",
   "metadata": {},
   "outputs": [
    {
     "name": "stdout",
     "output_type": "stream",
     "text": [
      "What is a? 4\n",
      "What is b? 3\n",
      "What is c? 7\n",
      "The roots of the equation are -6.8125 snd 6.0625\n",
      "It is imaginary\n"
     ]
    }
   ],
   "source": [
    "#Quadratic equation \n",
    "a = float(input(\"What is a? \"))\n",
    "b = float(input(\"What is b? \"))\n",
    "c = float(input(\"What is c? \"))\n",
    "\n",
    "#put down the equation for quadratic equation\n",
    "formula = -b +- ((b**2) - (4 * a * c)) / 2 * a\n",
    "step_1 = -b\n",
    "step_2 = ((b ** 2) - (4 * a * c)) ** 1/2\n",
    "step_3 = 2 * a\n",
    "x1 = ((step_1) + (step_2)) / step_3\n",
    "x2 = ((step_1) - (step_2)) / step_3\n",
    "\n",
    "print(f\"The roots of the equation are {x1} snd {x2}\")\n",
    "\n",
    "if step_2 == 0:\n",
    "    print(\"It is real and equal\")\n",
    "elif step_2 > 0:\n",
    "    print(\"It is real and unequal\")\n",
    "elif step_2 < 0:\n",
    "    print(\"It is imaginary\")\n",
    "else:\n",
    "    print(\"Wrong input\")\n",
    "\n"
   ]
  },
  {
   "cell_type": "code",
   "execution_count": null,
   "id": "fb25c57b",
   "metadata": {},
   "outputs": [],
   "source": []
  }
 ],
 "metadata": {
  "kernelspec": {
   "display_name": "Python 3 (ipykernel)",
   "language": "python",
   "name": "python3"
  },
  "language_info": {
   "codemirror_mode": {
    "name": "ipython",
    "version": 3
   },
   "file_extension": ".py",
   "mimetype": "text/x-python",
   "name": "python",
   "nbconvert_exporter": "python",
   "pygments_lexer": "ipython3",
   "version": "3.10.9"
  }
 },
 "nbformat": 4,
 "nbformat_minor": 5
}
