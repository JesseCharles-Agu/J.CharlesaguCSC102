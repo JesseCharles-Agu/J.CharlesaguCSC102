{
 "cells": [
  {
   "cell_type": "code",
   "execution_count": 1,
   "id": "be4a3a52",
   "metadata": {},
   "outputs": [
    {
     "name": "stdout",
     "output_type": "stream",
     "text": [
      "What is P? 5\n",
      "What is R? 4\n",
      "What is n? 3\n",
      "What is t? 5\n",
      "The compound interest is 65\n"
     ]
    }
   ],
   "source": [
    "#set out the parameters\n",
    "\n",
    "P = int(input(\"What is P? \"))\n",
    "R = int(input(\"What is R? \"))\n",
    "n = int(input(\"What is n? \"))\n",
    "t = int(input(\"What is t? \"))\n",
    "\n",
    "#try to separate the parameters\n",
    "\n",
    "part1 = int(1 + (R / n))\n",
    "part2 = (part1) ^ n * t\n",
    "part3 = P * part2\n",
    "A = part3\n",
    "print(\"The compound interest is\", A)"
   ]
  },
  {
   "cell_type": "code",
   "execution_count": null,
   "id": "57c5c6d7",
   "metadata": {},
   "outputs": [],
   "source": []
  }
 ],
 "metadata": {
  "kernelspec": {
   "display_name": "Python 3 (ipykernel)",
   "language": "python",
   "name": "python3"
  },
  "language_info": {
   "codemirror_mode": {
    "name": "ipython",
    "version": 3
   },
   "file_extension": ".py",
   "mimetype": "text/x-python",
   "name": "python",
   "nbconvert_exporter": "python",
   "pygments_lexer": "ipython3",
   "version": "3.10.9"
  }
 },
 "nbformat": 4,
 "nbformat_minor": 5
}
