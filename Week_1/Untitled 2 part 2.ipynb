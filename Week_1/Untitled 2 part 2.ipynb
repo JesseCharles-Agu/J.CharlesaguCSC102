{
 "cells": [
  {
   "cell_type": "code",
   "execution_count": 3,
   "id": "db595102",
   "metadata": {},
   "outputs": [
    {
     "name": "stdout",
     "output_type": "stream",
     "text": [
      "number is <= 9 or >= 9999\n"
     ]
    }
   ],
   "source": [
    "num = 9\n",
    "\n",
    "if 9 < num < 99:\n",
    "    print(\"Two digit number\")\n",
    "\n",
    "    if 99 < num < 999:\n",
    "        print(\"Three digit number\")\n",
    "    \n",
    "        if 999 < num < 9999:\n",
    "            print(\"Four digit number\")\n",
    "    \n",
    "else: \n",
    "    print(\"number is <= 9 or >= 9999\")"
   ]
  }
 ],
 "metadata": {
  "kernelspec": {
   "display_name": "Python 3 (ipykernel)",
   "language": "python",
   "name": "python3"
  },
  "language_info": {
   "codemirror_mode": {
    "name": "ipython",
    "version": 3
   },
   "file_extension": ".py",
   "mimetype": "text/x-python",
   "name": "python",
   "nbconvert_exporter": "python",
   "pygments_lexer": "ipython3",
   "version": "3.10.9"
  }
 },
 "nbformat": 4,
 "nbformat_minor": 5
}
