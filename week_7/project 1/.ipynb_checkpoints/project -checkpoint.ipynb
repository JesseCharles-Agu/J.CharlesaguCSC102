{
 "cells": [
  {
   "cell_type": "code",
   "execution_count": 9,
   "id": "d3adbeac",
   "metadata": {},
   "outputs": [
    {
     "name": "stdout",
     "output_type": "stream",
     "text": [
      "What is your first name? Chukwunonye\n",
      "What is your department? Accounting\n"
     ]
    }
   ],
   "source": [
    "import pandas as pd\n",
    "\n",
    "data = pd.read_csv(\"jt-ventures.csv\")\n",
    "\n",
    "df = pd.DataFrame(data)\n",
    "\n",
    "columns = list(df)\n",
    "name = input(\"What is your first name? \")\n",
    "department = input(\"What is your department? \")\n",
    "\n",
    "\n",
    "for i in columns:\n",
    "    if name == df[i][3] and department == df[i][3]:\n",
    "        print(\"You are welcome! \")\n",
    "    \n",
    "    \n",
    "    "
   ]
  },
  {
   "cell_type": "code",
   "execution_count": 25,
   "id": "c242aefa",
   "metadata": {},
   "outputs": [
    {
     "name": "stdout",
     "output_type": "stream",
     "text": [
      "Welcome to Yaga services \n",
      "What is the location of the package, ibeju_lekki or Epe? ibeju_lekki\n",
      "What is the weight of the package? 13\n"
     ]
    }
   ],
   "source": [
    "print(\"Welcome to Yaga services \")\n",
    "\n",
    "location = input(\"What is the location of the package, ibeju_lekki or Epe? \")\n",
    "weight = float(input(\"What is the weight of the package? \"))\n",
    "\n",
    "if location == ibeju_lekki:\n",
    "    if weight >= 10:\n",
    "        print(\"You have exceeded the limited weight, therefore you have to pay 2000 naira\")\n",
    "    elif weight <= 10:\n",
    "        print(\"You are still within the limited weight, therefore you have to pay 1500 naira\")\n",
    "    else:\n",
    "        print(\"Invalid input\")\n",
    "elif location == epe:\n",
    "    if weight >= 10:\n",
    "        print(\"You have exceeded the limited weight, therefore you have to pay 5000 naira\")\n",
    "    elif weight <= 10:\n",
    "        print(\"You are still within the limited weight, therefore you have to pay 4000 naira\")\n",
    "    else:\n",
    "        print(\"Invalid input\")\n",
    "else:\n",
    "    print(\"Invalid input\")\n",
    "        \n",
    "\n",
    "\n",
    "        \n"
   ]
  },
  {
   "cell_type": "code",
   "execution_count": null,
   "id": "8c6c02ef",
   "metadata": {},
   "outputs": [],
   "source": [
    "import pandas as pd\n",
    "\n",
    "name = input(\"What is your name? \")\n",
    "course = input(\"What if your course? \")\n",
    "score = int(input(\"What is your jamb score\"))\n",
    "\n",
    "admitted = []\n",
    "notadmitted = []\n",
    "\n",
    "if score >= 220:\n",
    "    distinctions = int(input(\"How many distinctions did you have: \"))\n",
    "    if distinctions >= 5:\n",
    "        interview = input(\"What was your feedback on the interview? \").lower()\n",
    "        if interview == 'pass':\n",
    "            print(\"YOU HAVE BEEN ADMITTED\")\n",
    "            \n",
    "            adm = {'Name': [(name)], 'Course': [(course)], 'JAMB': [(course)],\n",
    "                  'Distinctions': [(distinctions)], 'Interview': [(interview)]}\n",
    "            admitted.append(adm)\n",
    "            \n",
    "            df = pd.DataFrame(info)\n",
    "            df.to_csv('admitted.csv')\n",
    "            \n",
    "elif score < 220:\n",
    "    print(\"You aren't admitted\")\n",
    "    \n",
    "    \n",
    "    notadm = {'Name': name, 'Course': course, 'JAMB': score}\n",
    "    not admitted.append(notadm)\n",
    "    \n",
    "    df = pd.DataFrame(info)\n",
    "    df.to_csv('not_admitted.csv')"
   ]
  },
  {
   "cell_type": "code",
   "execution_count": null,
   "id": "a61b4bef",
   "metadata": {},
   "outputs": [],
   "source": []
  }
 ],
 "metadata": {
  "kernelspec": {
   "display_name": "Python 3 (ipykernel)",
   "language": "python",
   "name": "python3"
  },
  "language_info": {
   "codemirror_mode": {
    "name": "ipython",
    "version": 3
   },
   "file_extension": ".py",
   "mimetype": "text/x-python",
   "name": "python",
   "nbconvert_exporter": "python",
   "pygments_lexer": "ipython3",
   "version": "3.10.9"
  }
 },
 "nbformat": 4,
 "nbformat_minor": 5
}
