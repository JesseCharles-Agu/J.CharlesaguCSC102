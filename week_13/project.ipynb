{
 "cells": [
  {
   "cell_type": "code",
   "execution_count": 6,
   "id": "341e6552",
   "metadata": {},
   "outputs": [
    {
     "name": "stdout",
     "output_type": "stream",
     "text": [
      "enter Your name: Jesse\n",
      "enter your matric number: 22120612970\n",
      "enter your department: Computer science\n",
      "enter your level: 100\n",
      "enter Your name: EKene\n",
      "enter your matric number: 22129039432\n",
      "enter your department: Computer science\n",
      "enter your level: 100\n",
      "enter Your name: Marcel\n",
      "enter your matric number: 2212743593\n",
      "enter your department: Engineering\n",
      "enter your level: 200\n",
      "enter Your name: Joshua\n",
      "enter your matric number: 2212483904\n",
      "enter your department: Business Admin\n",
      "enter your level: 300\n",
      "enter Your name: Eno\n",
      "enter your matric number: 22123904856\n",
      "enter your department: Finance\n",
      "enter your level: 400\n",
      "  Student Name Matric number        Department Level\n",
      "0        Jesse   22120612970  Computer science   100\n",
      "1        EKene   22129039432  Computer science   100\n",
      "2       Marcel    2212743593       Engineering   200\n",
      "3       Joshua    2212483904    Business Admin   300\n",
      "4          Eno   22123904856           Finance   400\n"
     ]
    }
   ],
   "source": [
    "import pandas as pd\n",
    "\n",
    "data = []\n",
    "for i in range(5):\n",
    "    PAU_SIMS = {}\n",
    "    PAU_SIMS[\"Student Name\"] = input(\"enter Your name: \")\n",
    "    PAU_SIMS['Matric number'] = input(\"enter your matric number: \")\n",
    "    PAU_SIMS[\"Department\"] = input(\"enter your department: \")\n",
    "    PAU_SIMS[\"Level\"] = input(\"enter your level: \")\n",
    "    \n",
    "    data.append(PAU_SIMS)\n",
    "\n",
    "df = pd.DataFrame(data)\n",
    "print(df)\n",
    "\n",
    "\n",
    "df.to_csv(\"PAU_SIMS.csv\",index = False)\n"
   ]
  },
  {
   "cell_type": "code",
   "execution_count": 8,
   "id": "3353c885",
   "metadata": {},
   "outputs": [
    {
     "name": "stdout",
     "output_type": "stream",
     "text": [
      "    Company Company's shares Company's Liabilities Year Founded  \\\n",
      "0     Enron        1,000,000               200,000         1987   \n",
      "1  Anderson        1,500,000               500,000         1936   \n",
      "2  GK Jones        3,000,000             1,500,000         2001   \n",
      "3      Mica          250,000                50,000         1996   \n",
      "4      Dune          800,000               300,000         2008   \n",
      "\n",
      "  Company's Leverages  \n",
      "0                  80  \n",
      "1                66.7  \n",
      "2                  50  \n",
      "3                  80  \n",
      "4                62.5  \n"
     ]
    }
   ],
   "source": [
    "import pandas as pd\n",
    "\n",
    "specific_details = {\"Company\": ['Enron','Anderson','GK Jones','Mica','Dune'],\n",
    "                   \"Company's shares\": ['1,000,000','1,500,000','3,000,000','250,000','800,000'],\n",
    "                   \"Company's Liabilities\": ['200,000','500,000','1,500,000','50,000','300,000'],\n",
    "                   \"Year Founded\": ['1987','1936','2001','1996','2008'],\n",
    "                   \"Company's Leverages\": ['80','66.7','50','80','62.5']}\n",
    "\n",
    "\n",
    "df = pd.DataFrame(specific_details)\n",
    "print(df)\n",
    "df.to_csv(\"record.csv\")\n",
    "\n",
    " "
   ]
  },
  {
   "cell_type": "code",
   "execution_count": null,
   "id": "78e338b2",
   "metadata": {},
   "outputs": [],
   "source": []
  }
 ],
 "metadata": {
  "kernelspec": {
   "display_name": "Python 3 (ipykernel)",
   "language": "python",
   "name": "python3"
  },
  "language_info": {
   "codemirror_mode": {
    "name": "ipython",
    "version": 3
   },
   "file_extension": ".py",
   "mimetype": "text/x-python",
   "name": "python",
   "nbconvert_exporter": "python",
   "pygments_lexer": "ipython3",
   "version": "3.10.9"
  }
 },
 "nbformat": 4,
 "nbformat_minor": 5
}
