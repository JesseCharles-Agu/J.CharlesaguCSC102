{
 "cells": [
  {
   "cell_type": "code",
   "execution_count": 1,
   "id": "f5760039",
   "metadata": {},
   "outputs": [
    {
     "name": "stdout",
     "output_type": "stream",
     "text": [
      "What is P? 424\n",
      "What is M? 345\n",
      "What is T? 2635\n",
      "What is x? 454\n",
      "What is R? 232\n",
      "What is n? 22\n",
      "What is t? 57\n",
      "The annual plan is 20908682367517.242\n"
     ]
    }
   ],
   "source": [
    "# bring out the parameters\n",
    "\n",
    "P = int(input(\"What is P? \"))\n",
    "M = int(input(\"What is M? \"))\n",
    "T = int(input(\"What is T? \"))\n",
    "x = int(input(\"What is x? \"))\n",
    "R = int(input(\"What is R? \"))\n",
    "n = int(input(\"What is n? \"))\n",
    "t = int(input(\"What is t? \"))\n",
    "\n",
    "#put he into solved parameters\n",
    "p1 = P * M * T * x\n",
    "p2 = int((1 + R / n)) ^ n * t\n",
    "fp2 = p2 - 1\n",
    "p3 = R / n\n",
    "p4 = fp2 / p3\n",
    "A = p1 * p4\n",
    "print(\"The annual plan is\", A)"
   ]
  },
  {
   "cell_type": "code",
   "execution_count": null,
   "id": "44b720e8",
   "metadata": {},
   "outputs": [],
   "source": []
  }
 ],
 "metadata": {
  "kernelspec": {
   "display_name": "Python 3 (ipykernel)",
   "language": "python",
   "name": "python3"
  },
  "language_info": {
   "codemirror_mode": {
    "name": "ipython",
    "version": 3
   },
   "file_extension": ".py",
   "mimetype": "text/x-python",
   "name": "python",
   "nbconvert_exporter": "python",
   "pygments_lexer": "ipython3",
   "version": "3.10.9"
  }
 },
 "nbformat": 4,
 "nbformat_minor": 5
}
