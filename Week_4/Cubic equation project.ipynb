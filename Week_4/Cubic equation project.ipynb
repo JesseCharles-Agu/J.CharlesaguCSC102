{
 "cells": [
  {
   "cell_type": "code",
   "execution_count": 1,
   "id": "516c0d30",
   "metadata": {},
   "outputs": [
    {
     "name": "stdout",
     "output_type": "stream",
     "text": [
      "What is a? 2\n",
      "What is b? -30\n",
      "what is c? 162\n",
      "What is d? -350\n",
      "The roots of the equation are -30.0 -130.18055555555554 175.18055555555554\n"
     ]
    }
   ],
   "source": [
    "# cardano's formula\n",
    "\n",
    "a = float(input(\"What is a? \"))\n",
    "b = float(input(\"What is b? \"))\n",
    "c = float(input(\"what is c? \"))\n",
    "d = float(input(\"What is d? \"))\n",
    "i = (-1) ** 1/2\n",
    "\n",
    "\n",
    "#bring out the parameters and put down the formulas\n",
    "a1 = float(b / a)\n",
    "a2 = float(c / a)\n",
    "a3 = float(d / a)\n",
    "\n",
    "#solve more on the equation\n",
    "\n",
    "st_1 = float((a1 ** 2))\n",
    "st_2 = float(3 * a2)\n",
    "Q = (st_1 - st_2) / 9\n",
    "\n",
    "pt_1 = float(9 * a1 * a2)\n",
    "pt_2 = float(27 * a3)\n",
    "pt_3 = (a1) ** 3 \n",
    "pt_4 = float(pt_3 * 2)\n",
    "R = (pt_1 - pt_2 - pt_3) / 54\n",
    "\n",
    "tt_1 = (Q ** 3) + (R ** 2)\n",
    "tt_2 = R + tt_1\n",
    "S = (tt_2) ** 1/3\n",
    "\n",
    "rt_1 = (Q ** 3) + (R ** 2)\n",
    "rt_2 = R - rt_1\n",
    "T = (rt_2) ** 1/3\n",
    "\n",
    "#solution for the roots\n",
    "\n",
    "x1 = S + T - (1/3 * a1)\n",
    "\n",
    "x2 = (-1/2 * (S + T)) - (1/3 * a1) + (1/2 * (i ** 1/3) * (S - T))\n",
    "\n",
    "x3 = (-1/2 * (S + T)) - (1/3 * a1) - (1/2 * (i ** 1/3) * (S - T))\n",
    "\n",
    "print(\"The roots of the equation are\", x1, x2 ,x3)\n",
    "\n"
   ]
  },
  {
   "cell_type": "markdown",
   "id": "cbbdf6f2",
   "metadata": {},
   "source": [
    "##### "
   ]
  }
 ],
 "metadata": {
  "kernelspec": {
   "display_name": "Python 3 (ipykernel)",
   "language": "python",
   "name": "python3"
  },
  "language_info": {
   "codemirror_mode": {
    "name": "ipython",
    "version": 3
   },
   "file_extension": ".py",
   "mimetype": "text/x-python",
   "name": "python",
   "nbconvert_exporter": "python",
   "pygments_lexer": "ipython3",
   "version": "3.10.9"
  }
 },
 "nbformat": 4,
 "nbformat_minor": 5
}
