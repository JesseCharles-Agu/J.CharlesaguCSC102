{
 "cells": [
  {
   "cell_type": "code",
   "execution_count": 8,
   "id": "2a27b33b",
   "metadata": {},
   "outputs": [
    {
     "name": "stdout",
     "output_type": "stream",
     "text": [
      "what is P? 4\n",
      "what is R? 5\n",
      "what is T? 6\n",
      "The simple interest is 5.2\n"
     ]
    }
   ],
   "source": [
    "#set out the parameters\n",
    "\n",
    "P = int(input(\"what is P? \"))\n",
    "R = int(input(\"what is R? \"))\n",
    "T = int(input(\"what is T? \"))\n",
    "\n",
    "#Equate everything to A\n",
    "\n",
    "A = P * (1 + (R / 100) * T)\n",
    "print(\"The simple interest is\", A)\n",
    "\n",
    "\n"
   ]
  },
  {
   "cell_type": "code",
   "execution_count": null,
   "id": "71b629fe",
   "metadata": {},
   "outputs": [],
   "source": []
  }
 ],
 "metadata": {
  "kernelspec": {
   "display_name": "Python 3 (ipykernel)",
   "language": "python",
   "name": "python3"
  },
  "language_info": {
   "codemirror_mode": {
    "name": "ipython",
    "version": 3
   },
   "file_extension": ".py",
   "mimetype": "text/x-python",
   "name": "python",
   "nbconvert_exporter": "python",
   "pygments_lexer": "ipython3",
   "version": "3.10.9"
  }
 },
 "nbformat": 4,
 "nbformat_minor": 5
}
