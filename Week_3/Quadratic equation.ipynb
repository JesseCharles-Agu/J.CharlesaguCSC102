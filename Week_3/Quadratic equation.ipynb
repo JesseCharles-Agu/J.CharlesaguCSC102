{
 "cells": [
  {
   "cell_type": "code",
   "execution_count": 1,
   "id": "addf65d4",
   "metadata": {},
   "outputs": [
    {
     "name": "stdout",
     "output_type": "stream",
     "text": [
      "What is a? 3\n",
      "What is b? 6\n",
      "What is c? 2\n",
      "The roots of the equation are 1.0 snd -3.0\n",
      "It is real and unequal\n"
     ]
    }
   ],
   "source": [
    "#Quadratic equation \n",
    "a = float(input(\"What is a? \"))\n",
    "b = float(input(\"What is b? \"))\n",
    "c = float(input(\"What is c? \"))\n",
    "\n",
    "#put down the equation for quadratic equation\n",
    "formula = -b +- ((b**2) - (4 * a * c)) / 2 * a\n",
    "step_1 = -b\n",
    "step_2 = ((b ** 2) - (4 * a * c))\n",
    "step_3 = 2 * a\n",
    "x1 = ((step_1) + (step_2)) / step_3\n",
    "x2 = ((step_1) - (step_2)) / step_3\n",
    "\n",
    "print(f\"The roots of the equation are {x1} snd {x2}\")\n",
    "\n",
    "if step_2 == 0:\n",
    "    print(\"It is real and equal\")\n",
    "elif step_2 > 0:\n",
    "    print(\"It is real and unequal\")\n",
    "elif step_2 < 0:\n",
    "    print(\"It is imaginary\")\n",
    "else:\n",
    "    print(\"Wrong input\")\n",
    "\n"
   ]
  },
  {
   "cell_type": "code",
   "execution_count": null,
   "id": "a895af3d",
   "metadata": {},
   "outputs": [],
   "source": []
  }
 ],
 "metadata": {
  "kernelspec": {
   "display_name": "Python 3 (ipykernel)",
   "language": "python",
   "name": "python3"
  },
  "language_info": {
   "codemirror_mode": {
    "name": "ipython",
    "version": 3
   },
   "file_extension": ".py",
   "mimetype": "text/x-python",
   "name": "python",
   "nbconvert_exporter": "python",
   "pygments_lexer": "ipython3",
   "version": "3.10.9"
  }
 },
 "nbformat": 4,
 "nbformat_minor": 5
}
