{
 "cells": [
  {
   "cell_type": "code",
   "execution_count": null,
   "id": "2b7b4dee",
   "metadata": {},
   "outputs": [],
   "source": [
    "def printinfo(name, age):\n",
    "    #Test function\n",
    "    print(\"Name: \",name);\n",
    "    print(\"Age: \",age);\n",
    "    \n",
    "printinfo(age=50, name=\"miki\");"
   ]
  }
 ],
 "metadata": {
  "kernelspec": {
   "display_name": "Python 3 (ipykernel)",
   "language": "python",
   "name": "python3"
  },
  "language_info": {
   "codemirror_mode": {
    "name": "ipython",
    "version": 3
   },
   "file_extension": ".py",
   "mimetype": "text/x-python",
   "name": "python",
   "nbconvert_exporter": "python",
   "pygments_lexer": "ipython3",
   "version": "3.10.9"
  }
 },
 "nbformat": 4,
 "nbformat_minor": 5
}
