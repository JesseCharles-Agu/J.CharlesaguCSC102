{
 "cells": [
  {
   "cell_type": "code",
   "execution_count": 2,
   "id": "025fe28a",
   "metadata": {},
   "outputs": [],
   "source": [
    "class Orange():\n",
    "    def __init__(self,stock_quantity,price):\n",
    "        self.stock_quantity = stock_quantity\n",
    "        self.price = price\n",
    "    \n",
    "    def buy_orange(self,quantity):\n",
    "        self.quantity = quantity\n",
    "        \n",
    "        if quantity <= self.stock_quantity:\n",
    "            total_cost = quantity * self.price\n",
    "            print(\"Thank you for your patronage!\")\n",
    "            print(\"Total_cost : { }\")\n",
    "        else:\n",
    "            print(\"Sorry,wrong amount specified is not available\")\n",
    "            \n",
    "        store = orange(100,50)\n",
    "        requested_quantity = output(\"Enter the amount of oranges you want to buy\")\n",
    "        \n",
    "        store.buy_orange(requested_quantity)\n",
    "    "
   ]
  },
  {
   "cell_type": "code",
   "execution_count": 6,
   "id": "68f0b62d",
   "metadata": {},
   "outputs": [
    {
     "name": "stdout",
     "output_type": "stream",
     "text": [
      "Area of trapezium(1)\n",
      "Area of rhombus(2)\n",
      "Area of parallelogram(3)\n",
      "Area of cube(4)\n",
      "Volume of the cylinder(5)\n",
      "Choose an equation: 1\n",
      "What is the height? 5\n",
      "What is the 1st base? 4\n",
      "What is the second base? 3\n",
      "Area of the trapezium is 0.35714285714285715\n"
     ]
    }
   ],
   "source": [
    "class mathematics_formula():\n",
    "    def trapezium(self):\n",
    "        height = float(input(\"What is the height? \"))\n",
    "        base1 = float(input(\"What is the 1st base? \"))\n",
    "        base2 = float(input(\"What is the second base? \"))\n",
    "        \n",
    "        a1 = 2 * (base1 + base2)\n",
    "        area = height / a1\n",
    "        \n",
    "        print(f\"Area of the trapezium is {area}\")\n",
    "        \n",
    "    def rhombus(self):\n",
    "        diagonal1 = float(input(\"What is the 1st diagonal? \"))\n",
    "        diagonal2 = float(input(\"What is the 2nd diagonal? \"))\n",
    "        \n",
    "        area = (1/2) * (diagonal1 * diagonal2)\n",
    "        print(f\"Area of the rhoumbus is {area}\")\n",
    "        \n",
    "    def parallelogram(self):\n",
    "        base = float(input(\"What is the base? \"))\n",
    "        altitude = float(input(\"What is the  altitude? \"))\n",
    "        \n",
    "        area = base * altitude\n",
    "        print(f\"Area of paralellogram is {area}\")\n",
    "        \n",
    "    def cube(self):\n",
    "        length = float(input(\"What is the length of the side? \"))\n",
    "        \n",
    "        area = 6 * ((length ** 2) * 2)\n",
    "        print(f\"Area of the cube is {area}\")\n",
    "        \n",
    "    def cylinder(self):\n",
    "        radius = float(input(\"What is the radius? \"))\n",
    "        height = float(input(\"What is the height?  \"))\n",
    "        \n",
    "        volume = 3.142 * (radius ** 2) * height\n",
    "        print(f\"The area of the cylinder is {volume}\")\n",
    "\n",
    "        \n",
    "        \n",
    "f = mathematics_formula()\n",
    "\n",
    "equations = int(input(\"Area of trapezium(1)\\nArea of rhombus(2)\\nArea of parallelogram(3)\\nArea of cube(4)\\nVolume of the cylinder(5)\\nChoose an equation: \"))\n",
    "\n",
    "if equations == 1:\n",
    "    f.trapezium()\n",
    "elif equations == 2:\n",
    "    f.rhombus()\n",
    "elif equations == 3: \n",
    "    f.parallelogram()\n",
    "elif equations == 4:\n",
    "    f.cube()\n",
    "elif equations == 5:\n",
    "    f.cyinder()\n",
    "else:\n",
    "    print(\"Invalid input\")\n",
    "        "
   ]
  },
  {
   "cell_type": "code",
   "execution_count": null,
   "id": "146e0140",
   "metadata": {},
   "outputs": [],
   "source": []
  }
 ],
 "metadata": {
  "kernelspec": {
   "display_name": "Python 3 (ipykernel)",
   "language": "python",
   "name": "python3"
  },
  "language_info": {
   "codemirror_mode": {
    "name": "ipython",
    "version": 3
   },
   "file_extension": ".py",
   "mimetype": "text/x-python",
   "name": "python",
   "nbconvert_exporter": "python",
   "pygments_lexer": "ipython3",
   "version": "3.10.9"
  }
 },
 "nbformat": 4,
 "nbformat_minor": 5
}
