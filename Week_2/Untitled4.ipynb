{
 "cells": [
  {
   "cell_type": "code",
   "execution_count": 2,
   "id": "1a6c4652",
   "metadata": {},
   "outputs": [
    {
     "name": "stdout",
     "output_type": "stream",
     "text": [
      "What is P? 345\n",
      "What is M? 345\n",
      "What is T? 345\n",
      "What is x? 345\n",
      "What is R? 345\n",
      "What is n? 345\n",
      "What is t? 345\n"
     ]
    },
    {
     "ename": "TypeError",
     "evalue": "unsupported operand type(s) for ^: 'float' and 'int'",
     "output_type": "error",
     "traceback": [
      "\u001b[1;31m---------------------------------------------------------------------------\u001b[0m",
      "\u001b[1;31mTypeError\u001b[0m                                 Traceback (most recent call last)",
      "Cell \u001b[1;32mIn[2], line 13\u001b[0m\n\u001b[0;32m     11\u001b[0m \u001b[38;5;66;03m#put he into solved parameters\u001b[39;00m\n\u001b[0;32m     12\u001b[0m p1 \u001b[38;5;241m=\u001b[39m P \u001b[38;5;241m*\u001b[39m M \u001b[38;5;241m*\u001b[39m T \u001b[38;5;241m*\u001b[39m x\n\u001b[1;32m---> 13\u001b[0m p2 \u001b[38;5;241m=\u001b[39m \u001b[43m(\u001b[49m\u001b[38;5;241;43m1\u001b[39;49m\u001b[43m \u001b[49m\u001b[38;5;241;43m+\u001b[39;49m\u001b[43m \u001b[49m\u001b[43mR\u001b[49m\u001b[43m \u001b[49m\u001b[38;5;241;43m/\u001b[39;49m\u001b[43m \u001b[49m\u001b[43mn\u001b[49m\u001b[43m)\u001b[49m\u001b[43m \u001b[49m\u001b[38;5;241;43m^\u001b[39;49m\u001b[43m \u001b[49m\u001b[43mn\u001b[49m\u001b[43m \u001b[49m\u001b[38;5;241;43m*\u001b[39;49m\u001b[43m \u001b[49m\u001b[43mt\u001b[49m\n\u001b[0;32m     14\u001b[0m fp2 \u001b[38;5;241m=\u001b[39m p2 \u001b[38;5;241m-\u001b[39m \u001b[38;5;241m1\u001b[39m\n\u001b[0;32m     15\u001b[0m p3 \u001b[38;5;241m=\u001b[39m R \u001b[38;5;241m/\u001b[39m n\n",
      "\u001b[1;31mTypeError\u001b[0m: unsupported operand type(s) for ^: 'float' and 'int'"
     ]
    }
   ],
   "source": [
    "# bring out the parameters\n",
    "\n",
    "P = int(input(\"What is P? \"))\n",
    "M = int(input(\"What is M? \"))\n",
    "T = int(input(\"What is T? \"))\n",
    "x = int(input(\"What is x? \"))\n",
    "R = int(input(\"What is R? \"))\n",
    "n = int(input(\"What is n? \"))\n",
    "t = int(input(\"What is t? \"))\n",
    "\n",
    "#put he into solved parameters\n",
    "p1 = P * M * T * x\n",
    "p2 = (1 + R / n) ^ n * t\n",
    "fp2 = p2 - 1\n",
    "p3 = R / n\n",
    "p4 = fp2 / p3\n",
    "A = p1 * p4\n",
    "print(\"The annual plan is\", A)"
   ]
  },
  {
   "cell_type": "markdown",
   "id": "43c1064a",
   "metadata": {},
   "source": [
    "##### "
   ]
  },
  {
   "cell_type": "code",
   "execution_count": null,
   "id": "09d1bb1e",
   "metadata": {},
   "outputs": [],
   "source": []
  }
 ],
 "metadata": {
  "kernelspec": {
   "display_name": "Python 3 (ipykernel)",
   "language": "python",
   "name": "python3"
  },
  "language_info": {
   "codemirror_mode": {
    "name": "ipython",
    "version": 3
   },
   "file_extension": ".py",
   "mimetype": "text/x-python",
   "name": "python",
   "nbconvert_exporter": "python",
   "pygments_lexer": "ipython3",
   "version": "3.10.9"
  }
 },
 "nbformat": 4,
 "nbformat_minor": 5
}
