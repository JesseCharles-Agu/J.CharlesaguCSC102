{
 "cells": [
  {
   "cell_type": "code",
   "execution_count": 2,
   "id": "2f253cf4",
   "metadata": {},
   "outputs": [
    {
     "name": "stdout",
     "output_type": "stream",
     "text": [
      "Enter a number: 57658787\n",
      "Positive number\n"
     ]
    }
   ],
   "source": [
    "#Program to check if a number is positive, negtive or 0\n",
    "\n",
    "num = float(input(\"Enter a number: \"))\n",
    "if num > 0:\n",
    "    print(\"Positive number\")\n",
    "elif num ==  0:\n",
    "    print(\"Zero\")\n",
    "else:\n",
    "    print(\"Negtive number\")"
   ]
  },
  {
   "cell_type": "code",
   "execution_count": null,
   "id": "c8be0e4c",
   "metadata": {},
   "outputs": [],
   "source": []
  }
 ],
 "metadata": {
  "kernelspec": {
   "display_name": "Python 3 (ipykernel)",
   "language": "python",
   "name": "python3"
  },
  "language_info": {
   "codemirror_mode": {
    "name": "ipython",
    "version": 3
   },
   "file_extension": ".py",
   "mimetype": "text/x-python",
   "name": "python",
   "nbconvert_exporter": "python",
   "pygments_lexer": "ipython3",
   "version": "3.10.9"
  }
 },
 "nbformat": 4,
 "nbformat_minor": 5
}
